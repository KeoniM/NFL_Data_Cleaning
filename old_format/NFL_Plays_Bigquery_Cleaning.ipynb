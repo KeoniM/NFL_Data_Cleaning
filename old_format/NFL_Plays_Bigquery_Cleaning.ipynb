{
  "nbformat": 4,
  "nbformat_minor": 0,
  "metadata": {
    "colab": {
      "provenance": [],
      "authorship_tag": "ABX9TyOiGlkojCUbi950dmlJMokG",
      "include_colab_link": true
    },
    "kernelspec": {
      "name": "python3",
      "display_name": "Python 3"
    },
    "language_info": {
      "name": "python"
    }
  },
  "cells": [
    {
      "cell_type": "markdown",
      "metadata": {
        "id": "view-in-github",
        "colab_type": "text"
      },
      "source": [
        "<a href=\"https://colab.research.google.com/github/Keoni808/NFL_Data_Cleaning/blob/main/NFL_Plays_Bigquery_Cleaning.ipynb\" target=\"_parent\"><img src=\"https://colab.research.google.com/assets/colab-badge.svg\" alt=\"Open In Colab\"/></a>"
      ]
    },
    {
      "cell_type": "markdown",
      "source": [
        "#NOTEBOOK PURPOSE\n",
        "- Clean raw nfl data collected using NFL_Scraper to store in google bigquery.\n",
        "\n",
        "**PROBLEMS**\n",
        "1. New line characters within the column 'PlayDescription' are creating new rows within the dataset instead of staying within their original.\n",
        "\n",
        "\n"
      ],
      "metadata": {
        "id": "J0ObYzPSvpwl"
      }
    },
    {
      "cell_type": "markdown",
      "source": [
        "# Mounting and Imports"
      ],
      "metadata": {
        "id": "NK8KM1JoE1bJ"
      }
    },
    {
      "cell_type": "code",
      "execution_count": null,
      "metadata": {
        "colab": {
          "base_uri": "https://localhost:8080/"
        },
        "id": "5ThIkvyiEw6Z",
        "outputId": "c89f8e4f-220c-46bc-ff97-a196f2c797a0"
      },
      "outputs": [
        {
          "output_type": "stream",
          "name": "stdout",
          "text": [
            "Mounted at /content/drive\n"
          ]
        }
      ],
      "source": [
        "# Mount your Google Drive to access files\n",
        "from google.colab import drive\n",
        "drive.mount('/content/drive')"
      ]
    },
    {
      "cell_type": "code",
      "source": [
        "# imports\n",
        "\n",
        "# Data manipulation\n",
        "import pandas as pd"
      ],
      "metadata": {
        "id": "5tiH2p-cFn0N"
      },
      "execution_count": null,
      "outputs": []
    },
    {
      "cell_type": "markdown",
      "source": [
        "# Loading Data"
      ],
      "metadata": {
        "id": "o5lYZbKaFp3p"
      }
    },
    {
      "cell_type": "code",
      "source": [
        "# All files of raw data have been saved in google drive.\n",
        "\n",
        "!cp '/content/drive/MyDrive/Colab Notebooks/NFL_Scraping/CleaningData/Season_plays/2017_plays.csv' .\n",
        "!cp '/content/drive/MyDrive/Colab Notebooks/NFL_Scraping/CleaningData/Season_plays/2018_plays.csv' .\n",
        "!cp '/content/drive/MyDrive/Colab Notebooks/NFL_Scraping/CleaningData/Season_plays/2019_plays.csv' .\n",
        "!cp '/content/drive/MyDrive/Colab Notebooks/NFL_Scraping/CleaningData/Season_plays/2020_plays.csv' .\n",
        "!cp '/content/drive/MyDrive/Colab Notebooks/NFL_Scraping/CleaningData/Season_plays/2021_plays.csv' .\n",
        "!cp '/content/drive/MyDrive/Colab Notebooks/NFL_Scraping/CleaningData/Season_plays/2022_plays.csv' .\n",
        "!cp '/content/drive/MyDrive/Colab Notebooks/NFL_Scraping/CleaningData/Season_plays/2023_plays.csv' ."
      ],
      "metadata": {
        "id": "mS4SyfTAt_SR"
      },
      "execution_count": null,
      "outputs": []
    },
    {
      "cell_type": "code",
      "source": [
        "plays_2017 = pd.read_csv('2017_plays.csv')\n",
        "plays_2018 = pd.read_csv('2018_plays.csv')\n",
        "plays_2019 = pd.read_csv('2019_plays.csv')\n",
        "plays_2020 = pd.read_csv('2020_plays.csv')\n",
        "plays_2021 = pd.read_csv('2021_plays.csv')\n",
        "plays_2022 = pd.read_csv('2022_plays.csv')\n",
        "plays_2023 = pd.read_csv('2023_plays.csv')"
      ],
      "metadata": {
        "id": "lFFS5gmivQd-"
      },
      "execution_count": null,
      "outputs": []
    },
    {
      "cell_type": "code",
      "source": [
        "all_play_files = [plays_2017, plays_2018, plays_2019, plays_2020, plays_2021, plays_2022, plays_2023]"
      ],
      "metadata": {
        "id": "hju3leNsG6-0"
      },
      "execution_count": null,
      "outputs": []
    },
    {
      "cell_type": "markdown",
      "source": [
        "# PROBLEM #1\n",
        "- Get rid of all newline characters within the feature 'PlayDescription'"
      ],
      "metadata": {
        "id": "TKTEIN7sUem9"
      }
    },
    {
      "cell_type": "code",
      "source": [
        "# Example of value that contains '\\n' character\n",
        "plays_2017['PlayDescription'].iloc[14]"
      ],
      "metadata": {
        "id": "6gnaxLMrUeOY",
        "colab": {
          "base_uri": "https://localhost:8080/",
          "height": 35
        },
        "outputId": "918e41d2-cbb8-4884-8e73-c7b95265b584"
      },
      "execution_count": null,
      "outputs": [
        {
          "output_type": "execute_result",
          "data": {
            "text/plain": [
              "'(9:29) S.Irwin-Hill punts 45 yards to ARI 21, Center-Z.Wood, out of bounds.\\nPENALTY on DAL-K.Frazier, Unnecessary Roughness, 15 yards, enforced at ARI 21.'"
            ],
            "application/vnd.google.colaboratory.intrinsic+json": {
              "type": "string"
            }
          },
          "metadata": {},
          "execution_count": 32
        }
      ]
    },
    {
      "cell_type": "code",
      "source": [
        "for df in all_play_files:\n",
        "  df['PlayDescription'] = df['PlayDescription'].str.replace('\\n', ' ', regex=False)"
      ],
      "metadata": {
        "id": "viImB9EGy1O_"
      },
      "execution_count": null,
      "outputs": []
    },
    {
      "cell_type": "code",
      "source": [
        "# Example value now with '\\n' character replaced with ' '\n",
        "plays_2017['PlayDescription'].iloc[14]"
      ],
      "metadata": {
        "colab": {
          "base_uri": "https://localhost:8080/",
          "height": 35
        },
        "id": "EZauaTvOy_be",
        "outputId": "b0720882-4b27-47f5-b353-ff3370e92e1c"
      },
      "execution_count": null,
      "outputs": [
        {
          "output_type": "execute_result",
          "data": {
            "text/plain": [
              "'(9:29) S.Irwin-Hill punts 45 yards to ARI 21, Center-Z.Wood, out of bounds. PENALTY on DAL-K.Frazier, Unnecessary Roughness, 15 yards, enforced at ARI 21.'"
            ],
            "application/vnd.google.colaboratory.intrinsic+json": {
              "type": "string"
            }
          },
          "metadata": {},
          "execution_count": 36
        }
      ]
    },
    {
      "cell_type": "code",
      "source": [
        "# All files now clean and ready for biguqery\n",
        "plays_2017.to_csv('2017_plays_clean.csv', index=False)\n",
        "plays_2018.to_csv('2018_plays_clean.csv', index=False)\n",
        "plays_2019.to_csv('2019_plays_clean.csv', index=False)\n",
        "plays_2020.to_csv('2020_plays_clean.csv', index=False)\n",
        "plays_2021.to_csv('2021_plays_clean.csv', index=False)\n",
        "plays_2022.to_csv('2022_plays_clean.csv', index=False)\n",
        "plays_2023.to_csv('2023_plays_clean.csv', index=False)"
      ],
      "metadata": {
        "id": "Hyj8EDUezgRq"
      },
      "execution_count": null,
      "outputs": []
    }
  ]
}
