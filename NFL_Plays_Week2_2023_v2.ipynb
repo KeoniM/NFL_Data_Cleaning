{
  "nbformat": 4,
  "nbformat_minor": 0,
  "metadata": {
    "colab": {
      "provenance": [],
      "collapsed_sections": [
        "BNhnIi0tediv",
        "2SemOF9G_cDS",
        "rkViqYZR_wtM"
      ],
      "authorship_tag": "ABX9TyPomVtyaUXtpqJLj9z1ExXl",
      "include_colab_link": true
    },
    "kernelspec": {
      "name": "python3",
      "display_name": "Python 3"
    },
    "language_info": {
      "name": "python"
    }
  },
  "cells": [
    {
      "cell_type": "markdown",
      "metadata": {
        "id": "view-in-github",
        "colab_type": "text"
      },
      "source": [
        "<a href=\"https://colab.research.google.com/github/KeoniM/NFL_Data_Cleaning/blob/main/NFL_Plays_Week2_2023_v2.ipynb\" target=\"_parent\"><img src=\"https://colab.research.google.com/assets/colab-badge.svg\" alt=\"Open In Colab\"/></a>"
      ]
    },
    {
      "cell_type": "markdown",
      "source": [
        "**PURPOSE:**\n",
        "- Accurately clean a week's worth of play data\n",
        "  - Season 2023 -> Week 2\n",
        "\n",
        "**NOTE:**\n",
        "- What makes version 2 different than version 1 is the data being used. Although the core of the data is identical to the original, NFL.com has updated their formatting of how they display their data which has been scraped and used here. So minor adjustments will have to be made in creating the new version but I also see a beautiful opportunity to clean the older version here. Make the code more readible, organized and efficient."
      ],
      "metadata": {
        "id": "NqOKml4zcVGk"
      }
    },
    {
      "cell_type": "markdown",
      "source": [
        "# MOUNTING AND IMPORTS"
      ],
      "metadata": {
        "id": "BNhnIi0tediv"
      }
    },
    {
      "cell_type": "code",
      "execution_count": 2,
      "metadata": {
        "id": "dnZLj2LAcNJd",
        "colab": {
          "base_uri": "https://localhost:8080/"
        },
        "outputId": "fcf65659-8fea-4fa5-c6c4-9714acb8c995"
      },
      "outputs": [
        {
          "output_type": "stream",
          "name": "stdout",
          "text": [
            "Mounted at /content/drive\n"
          ]
        }
      ],
      "source": [
        "# Mount your Google Drive\n",
        "from google.colab import drive\n",
        "drive.mount('/content/drive')"
      ]
    },
    {
      "cell_type": "code",
      "source": [
        "# Used to access personal google cloud services\n",
        "from google.colab import auth\n",
        "auth.authenticate_user()\n",
        "print('Authenticated')"
      ],
      "metadata": {
        "id": "jJ685zOUekFz",
        "colab": {
          "base_uri": "https://localhost:8080/"
        },
        "outputId": "f0c22ca5-9d89-48b7-f7c2-75b0dfac73d2"
      },
      "execution_count": 3,
      "outputs": [
        {
          "output_type": "stream",
          "name": "stdout",
          "text": [
            "Authenticated\n"
          ]
        }
      ]
    },
    {
      "cell_type": "code",
      "source": [
        "# Imports\n",
        "\n",
        "# Data manipulation\n",
        "import pandas as pd\n",
        "\n",
        "# Regular expressions\n",
        "import re\n",
        "\n",
        "# Database access\n",
        "from google.cloud import bigquery"
      ],
      "metadata": {
        "id": "mBKQGr7Ueozv"
      },
      "execution_count": 4,
      "outputs": []
    },
    {
      "cell_type": "markdown",
      "source": [
        "# LOADING DATA (BigQuery)"
      ],
      "metadata": {
        "id": "2SemOF9G_cDS"
      }
    },
    {
      "cell_type": "code",
      "source": [
        "# Client connect to bigquery project\n",
        "client = bigquery.Client('nfl-data-430702')"
      ],
      "metadata": {
        "id": "aeXXx6B__myC"
      },
      "execution_count": 5,
      "outputs": []
    },
    {
      "cell_type": "markdown",
      "source": [
        "## Season 2023 Week 2"
      ],
      "metadata": {
        "id": "rkViqYZR_wtM"
      }
    },
    {
      "cell_type": "code",
      "source": [
        "# Grabbing all plays from 2023 Week 2 NFL Sesason\n",
        "nfl_plays_week2_2023_query = \"\"\"\n",
        "                             SELECT *\n",
        "                             FROM `nfl-data-430702.NFL_Scores_v2.NFL-Plays-Week2_2023`\n",
        "                             \"\"\"\n",
        "\n",
        "# Running psuedo query, and returns the amount of bytes it will take to run query\n",
        "dry_run_config = bigquery.QueryJobConfig(dry_run=True)\n",
        "dry_run_query = client.query(nfl_plays_week2_2023_query, job_config=dry_run_config)\n",
        "print(\"This query will process {} gigabytes.\".format(dry_run_query.total_bytes_processed/10**9))\n",
        "\n",
        "# Running query (Being mindful of the amount of data being grabbed)\n",
        "# Will grab a maximum of a Gigabyte\n",
        "safe_config = bigquery.QueryJobConfig(maximum_bytes_billed=10**9)\n",
        "safe_config_query = client.query(nfl_plays_week2_2023_query, job_config=safe_config)"
      ],
      "metadata": {
        "colab": {
          "base_uri": "https://localhost:8080/"
        },
        "id": "qDf8HGEU_zRG",
        "outputId": "25ac6c00-0ea8-49b2-b9e7-c92f0b12de0c"
      },
      "execution_count": 6,
      "outputs": [
        {
          "output_type": "stream",
          "name": "stdout",
          "text": [
            "This query will process 0.00063942 gigabytes.\n"
          ]
        }
      ]
    },
    {
      "cell_type": "code",
      "source": [
        "# Putting data attained from query into a dataframe\n",
        "week2_2023_plays = safe_config_query.to_dataframe()"
      ],
      "metadata": {
        "id": "pFM5y64KBRja"
      },
      "execution_count": 7,
      "outputs": []
    },
    {
      "cell_type": "code",
      "source": [
        "week2_2023_plays.head()"
      ],
      "metadata": {
        "colab": {
          "base_uri": "https://localhost:8080/",
          "height": 400
        },
        "id": "p7TChgOtCgYq",
        "outputId": "1a6afa63-7b78-435c-9c48-99df82afccbc"
      },
      "execution_count": 8,
      "outputs": [
        {
          "output_type": "execute_result",
          "data": {
            "text/plain": [
              "   Season    Week  Day   Date AwayTeam HomeTeam      Quarter  DriveNumber  \\\n",
              "0    2023  Week 1  THU  09/07    Lions   Chiefs  1st Quarter            1   \n",
              "1    2023  Week 1  THU  09/07    Lions   Chiefs  1st Quarter            1   \n",
              "2    2023  Week 1  THU  09/07    Lions   Chiefs  1st Quarter            1   \n",
              "3    2023  Week 1  THU  09/07    Lions   Chiefs  1st Quarter            1   \n",
              "4    2023  Week 1  THU  09/07    Lions   Chiefs  1st Quarter            1   \n",
              "\n",
              "  TeamWithPossession  IsScoringDrive  PlayNumberInDrive  IsScoringPlay  \\\n",
              "0      Detroit Lions               0                  1              0   \n",
              "1      Detroit Lions               0                  2              0   \n",
              "2      Detroit Lions               0                  3              0   \n",
              "3      Detroit Lions               0                  4              0   \n",
              "4      Detroit Lions               0                  5              0   \n",
              "\n",
              "          PlayOutcome           PlayStart  PlayTimeFormation  \\\n",
              "0  Kickoff from KC 35                None            Kickoff   \n",
              "1          7 Yard Run  1st & 10 at DET 25          15:00 1st   \n",
              "2     Pass Incomplete   2nd & 3 at DET 32          14:29 1st   \n",
              "3     Pass Incomplete   3rd & 3 at DET 32  14:25 1st Shotgun   \n",
              "4                Punt   4th & 3 at DET 32          14:21 1st   \n",
              "\n",
              "                                     PlayDescription  \n",
              "0  — H.Butker kicks 65 yards from KC 35 to end zo...  \n",
              "1  — D.Montgomery right guard to DET 32 for 7 yar...  \n",
              "2              — J.Goff pass incomplete short right.  \n",
              "3  — J.Goff pass incomplete deep right to J.Reyno...  \n",
              "4  — J.Fox punts 61 yards to KC 7, Center-S.Daly....  "
            ],
            "text/html": [
              "\n",
              "  <div id=\"df-bfccd863-54c4-4f2f-94be-b2cb6436372d\" class=\"colab-df-container\">\n",
              "    <div>\n",
              "<style scoped>\n",
              "    .dataframe tbody tr th:only-of-type {\n",
              "        vertical-align: middle;\n",
              "    }\n",
              "\n",
              "    .dataframe tbody tr th {\n",
              "        vertical-align: top;\n",
              "    }\n",
              "\n",
              "    .dataframe thead th {\n",
              "        text-align: right;\n",
              "    }\n",
              "</style>\n",
              "<table border=\"1\" class=\"dataframe\">\n",
              "  <thead>\n",
              "    <tr style=\"text-align: right;\">\n",
              "      <th></th>\n",
              "      <th>Season</th>\n",
              "      <th>Week</th>\n",
              "      <th>Day</th>\n",
              "      <th>Date</th>\n",
              "      <th>AwayTeam</th>\n",
              "      <th>HomeTeam</th>\n",
              "      <th>Quarter</th>\n",
              "      <th>DriveNumber</th>\n",
              "      <th>TeamWithPossession</th>\n",
              "      <th>IsScoringDrive</th>\n",
              "      <th>PlayNumberInDrive</th>\n",
              "      <th>IsScoringPlay</th>\n",
              "      <th>PlayOutcome</th>\n",
              "      <th>PlayStart</th>\n",
              "      <th>PlayTimeFormation</th>\n",
              "      <th>PlayDescription</th>\n",
              "    </tr>\n",
              "  </thead>\n",
              "  <tbody>\n",
              "    <tr>\n",
              "      <th>0</th>\n",
              "      <td>2023</td>\n",
              "      <td>Week 1</td>\n",
              "      <td>THU</td>\n",
              "      <td>09/07</td>\n",
              "      <td>Lions</td>\n",
              "      <td>Chiefs</td>\n",
              "      <td>1st Quarter</td>\n",
              "      <td>1</td>\n",
              "      <td>Detroit Lions</td>\n",
              "      <td>0</td>\n",
              "      <td>1</td>\n",
              "      <td>0</td>\n",
              "      <td>Kickoff from KC 35</td>\n",
              "      <td>None</td>\n",
              "      <td>Kickoff</td>\n",
              "      <td>— H.Butker kicks 65 yards from KC 35 to end zo...</td>\n",
              "    </tr>\n",
              "    <tr>\n",
              "      <th>1</th>\n",
              "      <td>2023</td>\n",
              "      <td>Week 1</td>\n",
              "      <td>THU</td>\n",
              "      <td>09/07</td>\n",
              "      <td>Lions</td>\n",
              "      <td>Chiefs</td>\n",
              "      <td>1st Quarter</td>\n",
              "      <td>1</td>\n",
              "      <td>Detroit Lions</td>\n",
              "      <td>0</td>\n",
              "      <td>2</td>\n",
              "      <td>0</td>\n",
              "      <td>7 Yard Run</td>\n",
              "      <td>1st &amp; 10 at DET 25</td>\n",
              "      <td>15:00 1st</td>\n",
              "      <td>— D.Montgomery right guard to DET 32 for 7 yar...</td>\n",
              "    </tr>\n",
              "    <tr>\n",
              "      <th>2</th>\n",
              "      <td>2023</td>\n",
              "      <td>Week 1</td>\n",
              "      <td>THU</td>\n",
              "      <td>09/07</td>\n",
              "      <td>Lions</td>\n",
              "      <td>Chiefs</td>\n",
              "      <td>1st Quarter</td>\n",
              "      <td>1</td>\n",
              "      <td>Detroit Lions</td>\n",
              "      <td>0</td>\n",
              "      <td>3</td>\n",
              "      <td>0</td>\n",
              "      <td>Pass Incomplete</td>\n",
              "      <td>2nd &amp; 3 at DET 32</td>\n",
              "      <td>14:29 1st</td>\n",
              "      <td>— J.Goff pass incomplete short right.</td>\n",
              "    </tr>\n",
              "    <tr>\n",
              "      <th>3</th>\n",
              "      <td>2023</td>\n",
              "      <td>Week 1</td>\n",
              "      <td>THU</td>\n",
              "      <td>09/07</td>\n",
              "      <td>Lions</td>\n",
              "      <td>Chiefs</td>\n",
              "      <td>1st Quarter</td>\n",
              "      <td>1</td>\n",
              "      <td>Detroit Lions</td>\n",
              "      <td>0</td>\n",
              "      <td>4</td>\n",
              "      <td>0</td>\n",
              "      <td>Pass Incomplete</td>\n",
              "      <td>3rd &amp; 3 at DET 32</td>\n",
              "      <td>14:25 1st Shotgun</td>\n",
              "      <td>— J.Goff pass incomplete deep right to J.Reyno...</td>\n",
              "    </tr>\n",
              "    <tr>\n",
              "      <th>4</th>\n",
              "      <td>2023</td>\n",
              "      <td>Week 1</td>\n",
              "      <td>THU</td>\n",
              "      <td>09/07</td>\n",
              "      <td>Lions</td>\n",
              "      <td>Chiefs</td>\n",
              "      <td>1st Quarter</td>\n",
              "      <td>1</td>\n",
              "      <td>Detroit Lions</td>\n",
              "      <td>0</td>\n",
              "      <td>5</td>\n",
              "      <td>0</td>\n",
              "      <td>Punt</td>\n",
              "      <td>4th &amp; 3 at DET 32</td>\n",
              "      <td>14:21 1st</td>\n",
              "      <td>— J.Fox punts 61 yards to KC 7, Center-S.Daly....</td>\n",
              "    </tr>\n",
              "  </tbody>\n",
              "</table>\n",
              "</div>\n",
              "    <div class=\"colab-df-buttons\">\n",
              "\n",
              "  <div class=\"colab-df-container\">\n",
              "    <button class=\"colab-df-convert\" onclick=\"convertToInteractive('df-bfccd863-54c4-4f2f-94be-b2cb6436372d')\"\n",
              "            title=\"Convert this dataframe to an interactive table.\"\n",
              "            style=\"display:none;\">\n",
              "\n",
              "  <svg xmlns=\"http://www.w3.org/2000/svg\" height=\"24px\" viewBox=\"0 -960 960 960\">\n",
              "    <path d=\"M120-120v-720h720v720H120Zm60-500h600v-160H180v160Zm220 220h160v-160H400v160Zm0 220h160v-160H400v160ZM180-400h160v-160H180v160Zm440 0h160v-160H620v160ZM180-180h160v-160H180v160Zm440 0h160v-160H620v160Z\"/>\n",
              "  </svg>\n",
              "    </button>\n",
              "\n",
              "  <style>\n",
              "    .colab-df-container {\n",
              "      display:flex;\n",
              "      gap: 12px;\n",
              "    }\n",
              "\n",
              "    .colab-df-convert {\n",
              "      background-color: #E8F0FE;\n",
              "      border: none;\n",
              "      border-radius: 50%;\n",
              "      cursor: pointer;\n",
              "      display: none;\n",
              "      fill: #1967D2;\n",
              "      height: 32px;\n",
              "      padding: 0 0 0 0;\n",
              "      width: 32px;\n",
              "    }\n",
              "\n",
              "    .colab-df-convert:hover {\n",
              "      background-color: #E2EBFA;\n",
              "      box-shadow: 0px 1px 2px rgba(60, 64, 67, 0.3), 0px 1px 3px 1px rgba(60, 64, 67, 0.15);\n",
              "      fill: #174EA6;\n",
              "    }\n",
              "\n",
              "    .colab-df-buttons div {\n",
              "      margin-bottom: 4px;\n",
              "    }\n",
              "\n",
              "    [theme=dark] .colab-df-convert {\n",
              "      background-color: #3B4455;\n",
              "      fill: #D2E3FC;\n",
              "    }\n",
              "\n",
              "    [theme=dark] .colab-df-convert:hover {\n",
              "      background-color: #434B5C;\n",
              "      box-shadow: 0px 1px 3px 1px rgba(0, 0, 0, 0.15);\n",
              "      filter: drop-shadow(0px 1px 2px rgba(0, 0, 0, 0.3));\n",
              "      fill: #FFFFFF;\n",
              "    }\n",
              "  </style>\n",
              "\n",
              "    <script>\n",
              "      const buttonEl =\n",
              "        document.querySelector('#df-bfccd863-54c4-4f2f-94be-b2cb6436372d button.colab-df-convert');\n",
              "      buttonEl.style.display =\n",
              "        google.colab.kernel.accessAllowed ? 'block' : 'none';\n",
              "\n",
              "      async function convertToInteractive(key) {\n",
              "        const element = document.querySelector('#df-bfccd863-54c4-4f2f-94be-b2cb6436372d');\n",
              "        const dataTable =\n",
              "          await google.colab.kernel.invokeFunction('convertToInteractive',\n",
              "                                                    [key], {});\n",
              "        if (!dataTable) return;\n",
              "\n",
              "        const docLinkHtml = 'Like what you see? Visit the ' +\n",
              "          '<a target=\"_blank\" href=https://colab.research.google.com/notebooks/data_table.ipynb>data table notebook</a>'\n",
              "          + ' to learn more about interactive tables.';\n",
              "        element.innerHTML = '';\n",
              "        dataTable['output_type'] = 'display_data';\n",
              "        await google.colab.output.renderOutput(dataTable, element);\n",
              "        const docLink = document.createElement('div');\n",
              "        docLink.innerHTML = docLinkHtml;\n",
              "        element.appendChild(docLink);\n",
              "      }\n",
              "    </script>\n",
              "  </div>\n",
              "\n",
              "\n",
              "    <div id=\"df-29df8d33-501d-41e2-a40f-bf4450da2c24\">\n",
              "      <button class=\"colab-df-quickchart\" onclick=\"quickchart('df-29df8d33-501d-41e2-a40f-bf4450da2c24')\"\n",
              "                title=\"Suggest charts\"\n",
              "                style=\"display:none;\">\n",
              "\n",
              "<svg xmlns=\"http://www.w3.org/2000/svg\" height=\"24px\"viewBox=\"0 0 24 24\"\n",
              "     width=\"24px\">\n",
              "    <g>\n",
              "        <path d=\"M19 3H5c-1.1 0-2 .9-2 2v14c0 1.1.9 2 2 2h14c1.1 0 2-.9 2-2V5c0-1.1-.9-2-2-2zM9 17H7v-7h2v7zm4 0h-2V7h2v10zm4 0h-2v-4h2v4z\"/>\n",
              "    </g>\n",
              "</svg>\n",
              "      </button>\n",
              "\n",
              "<style>\n",
              "  .colab-df-quickchart {\n",
              "      --bg-color: #E8F0FE;\n",
              "      --fill-color: #1967D2;\n",
              "      --hover-bg-color: #E2EBFA;\n",
              "      --hover-fill-color: #174EA6;\n",
              "      --disabled-fill-color: #AAA;\n",
              "      --disabled-bg-color: #DDD;\n",
              "  }\n",
              "\n",
              "  [theme=dark] .colab-df-quickchart {\n",
              "      --bg-color: #3B4455;\n",
              "      --fill-color: #D2E3FC;\n",
              "      --hover-bg-color: #434B5C;\n",
              "      --hover-fill-color: #FFFFFF;\n",
              "      --disabled-bg-color: #3B4455;\n",
              "      --disabled-fill-color: #666;\n",
              "  }\n",
              "\n",
              "  .colab-df-quickchart {\n",
              "    background-color: var(--bg-color);\n",
              "    border: none;\n",
              "    border-radius: 50%;\n",
              "    cursor: pointer;\n",
              "    display: none;\n",
              "    fill: var(--fill-color);\n",
              "    height: 32px;\n",
              "    padding: 0;\n",
              "    width: 32px;\n",
              "  }\n",
              "\n",
              "  .colab-df-quickchart:hover {\n",
              "    background-color: var(--hover-bg-color);\n",
              "    box-shadow: 0 1px 2px rgba(60, 64, 67, 0.3), 0 1px 3px 1px rgba(60, 64, 67, 0.15);\n",
              "    fill: var(--button-hover-fill-color);\n",
              "  }\n",
              "\n",
              "  .colab-df-quickchart-complete:disabled,\n",
              "  .colab-df-quickchart-complete:disabled:hover {\n",
              "    background-color: var(--disabled-bg-color);\n",
              "    fill: var(--disabled-fill-color);\n",
              "    box-shadow: none;\n",
              "  }\n",
              "\n",
              "  .colab-df-spinner {\n",
              "    border: 2px solid var(--fill-color);\n",
              "    border-color: transparent;\n",
              "    border-bottom-color: var(--fill-color);\n",
              "    animation:\n",
              "      spin 1s steps(1) infinite;\n",
              "  }\n",
              "\n",
              "  @keyframes spin {\n",
              "    0% {\n",
              "      border-color: transparent;\n",
              "      border-bottom-color: var(--fill-color);\n",
              "      border-left-color: var(--fill-color);\n",
              "    }\n",
              "    20% {\n",
              "      border-color: transparent;\n",
              "      border-left-color: var(--fill-color);\n",
              "      border-top-color: var(--fill-color);\n",
              "    }\n",
              "    30% {\n",
              "      border-color: transparent;\n",
              "      border-left-color: var(--fill-color);\n",
              "      border-top-color: var(--fill-color);\n",
              "      border-right-color: var(--fill-color);\n",
              "    }\n",
              "    40% {\n",
              "      border-color: transparent;\n",
              "      border-right-color: var(--fill-color);\n",
              "      border-top-color: var(--fill-color);\n",
              "    }\n",
              "    60% {\n",
              "      border-color: transparent;\n",
              "      border-right-color: var(--fill-color);\n",
              "    }\n",
              "    80% {\n",
              "      border-color: transparent;\n",
              "      border-right-color: var(--fill-color);\n",
              "      border-bottom-color: var(--fill-color);\n",
              "    }\n",
              "    90% {\n",
              "      border-color: transparent;\n",
              "      border-bottom-color: var(--fill-color);\n",
              "    }\n",
              "  }\n",
              "</style>\n",
              "\n",
              "      <script>\n",
              "        async function quickchart(key) {\n",
              "          const quickchartButtonEl =\n",
              "            document.querySelector('#' + key + ' button');\n",
              "          quickchartButtonEl.disabled = true;  // To prevent multiple clicks.\n",
              "          quickchartButtonEl.classList.add('colab-df-spinner');\n",
              "          try {\n",
              "            const charts = await google.colab.kernel.invokeFunction(\n",
              "                'suggestCharts', [key], {});\n",
              "          } catch (error) {\n",
              "            console.error('Error during call to suggestCharts:', error);\n",
              "          }\n",
              "          quickchartButtonEl.classList.remove('colab-df-spinner');\n",
              "          quickchartButtonEl.classList.add('colab-df-quickchart-complete');\n",
              "        }\n",
              "        (() => {\n",
              "          let quickchartButtonEl =\n",
              "            document.querySelector('#df-29df8d33-501d-41e2-a40f-bf4450da2c24 button');\n",
              "          quickchartButtonEl.style.display =\n",
              "            google.colab.kernel.accessAllowed ? 'block' : 'none';\n",
              "        })();\n",
              "      </script>\n",
              "    </div>\n",
              "\n",
              "    </div>\n",
              "  </div>\n"
            ],
            "application/vnd.google.colaboratory.intrinsic+json": {
              "type": "dataframe",
              "variable_name": "week2_2023_plays",
              "summary": "{\n  \"name\": \"week2_2023_plays\",\n  \"rows\": 2713,\n  \"fields\": [\n    {\n      \"column\": \"Season\",\n      \"properties\": {\n        \"dtype\": \"Int64\",\n        \"num_unique_values\": 1,\n        \"samples\": [\n          2023\n        ],\n        \"semantic_type\": \"\",\n        \"description\": \"\"\n      }\n    },\n    {\n      \"column\": \"Week\",\n      \"properties\": {\n        \"dtype\": \"category\",\n        \"num_unique_values\": 1,\n        \"samples\": [\n          \"Week 1\"\n        ],\n        \"semantic_type\": \"\",\n        \"description\": \"\"\n      }\n    },\n    {\n      \"column\": \"Day\",\n      \"properties\": {\n        \"dtype\": \"category\",\n        \"num_unique_values\": 3,\n        \"samples\": [\n          \"THU\"\n        ],\n        \"semantic_type\": \"\",\n        \"description\": \"\"\n      }\n    },\n    {\n      \"column\": \"Date\",\n      \"properties\": {\n        \"dtype\": \"category\",\n        \"num_unique_values\": 3,\n        \"samples\": [\n          \"09/07\"\n        ],\n        \"semantic_type\": \"\",\n        \"description\": \"\"\n      }\n    },\n    {\n      \"column\": \"AwayTeam\",\n      \"properties\": {\n        \"dtype\": \"category\",\n        \"num_unique_values\": 16,\n        \"samples\": [\n          \"Lions\"\n        ],\n        \"semantic_type\": \"\",\n        \"description\": \"\"\n      }\n    },\n    {\n      \"column\": \"HomeTeam\",\n      \"properties\": {\n        \"dtype\": \"category\",\n        \"num_unique_values\": 16,\n        \"samples\": [\n          \"Chiefs\"\n        ],\n        \"semantic_type\": \"\",\n        \"description\": \"\"\n      }\n    },\n    {\n      \"column\": \"Quarter\",\n      \"properties\": {\n        \"dtype\": \"category\",\n        \"num_unique_values\": 5,\n        \"samples\": [\n          \"2nd Quarter\"\n        ],\n        \"semantic_type\": \"\",\n        \"description\": \"\"\n      }\n    },\n    {\n      \"column\": \"DriveNumber\",\n      \"properties\": {\n        \"dtype\": \"Int64\",\n        \"num_unique_values\": 10,\n        \"samples\": [\n          9\n        ],\n        \"semantic_type\": \"\",\n        \"description\": \"\"\n      }\n    },\n    {\n      \"column\": \"TeamWithPossession\",\n      \"properties\": {\n        \"dtype\": \"category\",\n        \"num_unique_values\": 32,\n        \"samples\": [\n          \"Dallas Cowboys\"\n        ],\n        \"semantic_type\": \"\",\n        \"description\": \"\"\n      }\n    },\n    {\n      \"column\": \"IsScoringDrive\",\n      \"properties\": {\n        \"dtype\": \"Int64\",\n        \"num_unique_values\": 2,\n        \"samples\": [\n          1\n        ],\n        \"semantic_type\": \"\",\n        \"description\": \"\"\n      }\n    },\n    {\n      \"column\": \"PlayNumberInDrive\",\n      \"properties\": {\n        \"dtype\": \"Int64\",\n        \"num_unique_values\": 20,\n        \"samples\": [\n          1\n        ],\n        \"semantic_type\": \"\",\n        \"description\": \"\"\n      }\n    },\n    {\n      \"column\": \"IsScoringPlay\",\n      \"properties\": {\n        \"dtype\": \"Int64\",\n        \"num_unique_values\": 2,\n        \"samples\": [\n          1\n        ],\n        \"semantic_type\": \"\",\n        \"description\": \"\"\n      }\n    },\n    {\n      \"column\": \"PlayOutcome\",\n      \"properties\": {\n        \"dtype\": \"category\",\n        \"num_unique_values\": 179,\n        \"samples\": [\n          \"-12 Yard Sack\"\n        ],\n        \"semantic_type\": \"\",\n        \"description\": \"\"\n      }\n    },\n    {\n      \"column\": \"PlayStart\",\n      \"properties\": {\n        \"dtype\": \"string\",\n        \"num_unique_values\": 2053,\n        \"samples\": [\n          \"3rd & 10 at CIN 48\"\n        ],\n        \"semantic_type\": \"\",\n        \"description\": \"\"\n      }\n    },\n    {\n      \"column\": \"PlayTimeFormation\",\n      \"properties\": {\n        \"dtype\": \"string\",\n        \"num_unique_values\": 2113,\n        \"samples\": [\n          \"00:24 4th\"\n        ],\n        \"semantic_type\": \"\",\n        \"description\": \"\"\n      }\n    },\n    {\n      \"column\": \"PlayDescription\",\n      \"properties\": {\n        \"dtype\": \"string\",\n        \"num_unique_values\": 2583,\n        \"samples\": [\n          \"\\u2014 J.Burrow pass incomplete short right to T.Boyd (G.Newsome).\"\n        ],\n        \"semantic_type\": \"\",\n        \"description\": \"\"\n      }\n    }\n  ]\n}"
            }
          },
          "metadata": {},
          "execution_count": 8
        }
      ]
    },
    {
      "cell_type": "markdown",
      "source": [
        "# CATEGORIZE PLAYS\n",
        "- The goal here is to parse out the different values for 'PlayOutcome'\n",
        "  - Here is where I will separate different types of plays\n",
        "    - ( pass / run / kickoff / etc..)"
      ],
      "metadata": {
        "id": "pxVMKoLycv-O"
      }
    },
    {
      "cell_type": "code",
      "source": [
        "# All play outcomes from the game\n",
        "# - From here we can categorize and clean plays accordingly\n",
        "week2_2023_plays['PlayOutcome'].unique()"
      ],
      "metadata": {
        "colab": {
          "base_uri": "https://localhost:8080/"
        },
        "id": "lmSflZLndCd7",
        "outputId": "f638ce2a-299c-4c31-cd9c-1b5236379074"
      },
      "execution_count": 9,
      "outputs": [
        {
          "output_type": "execute_result",
          "data": {
            "text/plain": [
              "array(['Kickoff from KC 35', '7 Yard Run', 'Pass Incomplete', 'Punt',\n",
              "       '5 Yard Run', '3 Yard Run', '10 Yard Pass', '5 Yard Pass',\n",
              "       '2 Yard Run', '1 Yard Run', '13 Yard Pass', '21 Yard Pass',\n",
              "       '4 Yard Run', '17 Yard Run', '6 Yard Run', '0 Yard Run',\n",
              "       'Touchdown', 'Extra Point', 'Kickoff from DET 35', '19 Yard Pass',\n",
              "       '14 Yard Pass', '16 Yard Run', '1 Yard Pass', 'Timeout',\n",
              "       '9 Yard Pass', '-1 Yard Run', '8 Yard Pass', '-10 Yard Run',\n",
              "       'Fumble', '-3 Yard Sack', '25 Yard Pass', '3 Yard Pass',\n",
              "       '-10 Yard Penalty', '34 Yard Pass', '26 Yard Pass', '4 Yard Pass',\n",
              "       '2 Yard Pass', '7 Yard Pass', '6 Yard Pass', '18 Yard Pass',\n",
              "       '12 Yard Pass', '9 Yard Run', '41 Yard Penalty', 'Field Goal',\n",
              "       '-12 Yard Penalty', '20 Yard Pass', '24 Yard Pass', '-2 Yard Run',\n",
              "       '-5 Yard Penalty', '33 Yard Pass', '-3 Yard Run', '18 Yard Run',\n",
              "       'Kickoff from CAR 35', '-6 Yard Pass', '8 Yard Run',\n",
              "       '-8 Yard Sack', 'Turnover on Downs', '19 Yard Run', '22 Yard Run',\n",
              "       '-7 Yard Penalty', '-4 Yard Penalty', 'Interception',\n",
              "       'Kickoff from ATL 35', 'Sack', '5 Yard Penalty', '11 Yard Pass',\n",
              "       '12 Yard Run', '10 Yard Run', '-3 Yard Pass', '-13 Yard Sack',\n",
              "       '11 Yard Run', '-4 Yard Run', '21 Yard Run', '9 Yard Penalty',\n",
              "       'Kickoff from ATL 40', '-7 Yard Sack', '0 Yard Pass',\n",
              "       '17 Yard Pass', '-12 Yard Sack', '4 Yard Penalty',\n",
              "       'Kickoff from HOU 35', 'Kickoff from BAL 35', '-1 Yard Pass',\n",
              "       '26 Yard Penalty', '14 Yard Run', '15 Yard Penalty',\n",
              "       '-11 Yard Sack', '1 Yard Penalty', '2 Point Conversion',\n",
              "       '15 Yard Pass', '13 Yard Run', '17 Yard Penalty', '-6 Yard Sack',\n",
              "       '29 Yard Pass', 'Kickoff from CLE 35', '-2 Yard Sack',\n",
              "       '-2 Yard Pass', '-7 Yard Run', 'Kickoff from CIN 35',\n",
              "       '18 Yard Penalty', 'Field Goal No Good', 'Kickoff from JAX 35',\n",
              "       '22 Yard Pass', 'Kickoff from IND 35', '35 Yard Pass',\n",
              "       '-5 Yard Sack', '16 Yard Pass', '-14 Yard Run', '-4 Yard Pass',\n",
              "       '-1 Yard Sack', 'Kickoff from TB 35', '30 Yard Pass',\n",
              "       '-4 Yard Sack', 'Kickoff from MIN 35', '42 Yard Pass',\n",
              "       '20 Yard Run', 'Kickoff from TEN 35', 'Kickoff from NO 35',\n",
              "       '46 Yard Pass', '27 Yard Pass', '45 Yard Pass', '-9 Yard Sack',\n",
              "       '-5 Yard Run', '41 Yard Pass', 'Kickoff from SF 35',\n",
              "       '-10 Yard Sack', '23 Yard Pass', '-5 Yard Pass', '31 Yard Pass',\n",
              "       '39 Yard Run', 'Kickoff from PIT 35', '11 Yard Penalty',\n",
              "       'Kickoff from ARI 35', '37 Yard Penalty', 'Kickoff from WAS 35',\n",
              "       '29 Yard Run', '32 Yard Pass', 'Kickoff from GB 35',\n",
              "       'Kickoff from CHI 35', '51 Yard Pass', '-6 Yard Run',\n",
              "       '26 Yard Run', '37 Yard Pass', 'Kickoff from GB 20', '-8 Yard Run',\n",
              "       '2PT Conversion Fails', 'Kickoff from DEN 35',\n",
              "       'Kickoff from LV 20', 'Extra Point No Good', 'Kickoff from LV 35',\n",
              "       '-7 Yard Pass', '16 Yard Penalty', 'Kickoff from LAC 35',\n",
              "       '36 Yard Pass', 'Kickoff from MIA 35', '28 Yard Pass',\n",
              "       '55 Yard Run', '30 Yard Penalty', '13 Yard Penalty', 'Penalty',\n",
              "       '47 Yard Pass', 'Kickoff from NE 35', 'Kickoff from PHI 35',\n",
              "       '-14 Yard Penalty', 'Kickoff from LAR 35', '10 Yard Penalty',\n",
              "       'Kickoff from SEA 35', '-15 Yard Penalty', '15 Yard Run',\n",
              "       '3 Yard Penalty', '44 Yard Pass', 'Kickoff from DAL 35',\n",
              "       '23 Yard Run', '49 Yard Pass', 'Kickoff from NYG 35',\n",
              "       '25 Yard Run', 'Kickoff from NYJ 35', 'Kickoff from BUF 35',\n",
              "       '83 Yard Run'], dtype=object)"
            ]
          },
          "metadata": {},
          "execution_count": 9
        }
      ]
    },
    {
      "cell_type": "code",
      "source": [
        "# NOTES:\n",
        "# - Currently, I am eyeing all unique play outcomes to categorizing them.\n",
        "#   - This type of approach is not flexable because a play outcome can\n",
        "#     arise that has not been seen yet.\n",
        "#     - There may be more play outcomes in the future when working on a full season,\n",
        "#       let alone all seasons and future games\n",
        "\n",
        "# Play Types with complete cleaning methods (As far as this sample size goes)\n",
        "\n",
        "# ~ OFFENSE ~\n",
        "df_2023_pass_week2 = week2_2023_plays[week2_2023_plays['PlayOutcome'].str.contains('Pass')]\n",
        "df_2023_run_week2 = week2_2023_plays[week2_2023_plays['PlayOutcome'].str.contains('Run')]\n",
        "# ~ DEFENSE ~\n",
        "df_2023_interception_week2 = week2_2023_plays[week2_2023_plays['PlayOutcome'].str.contains('Interception')]\n",
        "df_2023_sack_week2 = week2_2023_plays[week2_2023_plays['PlayOutcome'].str.contains('Sack')]\n",
        "# ~ SPECIAL TEAMS ~\n",
        "df_2023_punt_week2 = week2_2023_plays[week2_2023_plays['PlayOutcome'].str.contains('Punt')]\n",
        "df_2023_kickoff_week2 = week2_2023_plays[week2_2023_plays['PlayOutcome'].str.contains('Kickoff')]\n",
        "# ~ SCORING ~\n",
        "df_2023_touchdown_week2 = week2_2023_plays[week2_2023_plays['PlayOutcome'].str.contains('Touchdown')]\n",
        "df_2023_extrapoint_week2 = week2_2023_plays[week2_2023_plays['PlayOutcome'].str.contains('Extra Point')]\n",
        "df_2023_fieldgoal_week2 = week2_2023_plays[week2_2023_plays['PlayOutcome'].str.contains('Field Goal')]\n",
        "# df_2023_2pt_conversion_week2 = week2_2023_plays[week2_2023_plays['PlayOutcome'].str.contains('2PT Conversion')]\n",
        "df_2023_2pt_conversion_week2 = week2_2023_plays[week2_2023_plays['PlayOutcome'].str.contains('Conversion')]\n",
        "# ~ OTHER ~\n",
        "df_2023_fumble_week2 = week2_2023_plays[week2_2023_plays['PlayOutcome'].str.contains('Fumble')]\n",
        "df_2023_penalty_week2 = week2_2023_plays[week2_2023_plays['PlayOutcome'].str.contains('Penalty')]\n",
        "df_2023_turnover_on_downs_week2 = week2_2023_plays[week2_2023_plays['PlayOutcome'].str.contains('Turnover on Downs')]\n",
        "df_2023_timeout_week2 = week2_2023_plays[week2_2023_plays['PlayOutcome'].str.contains('Timeout')]"
      ],
      "metadata": {
        "id": "HCnh3C4TdRjI"
      },
      "execution_count": 10,
      "outputs": []
    },
    {
      "cell_type": "markdown",
      "source": [
        "## SANITY CHECK (All Plays Accounted for)\n",
        "  - Once all plays have been categorized, will compare the sum of all plays in each category to the size of the original dataframe of plays.\n",
        "    - Goal is to make sure the number of plays is the same."
      ],
      "metadata": {
        "id": "F2OYnxdNecCZ"
      }
    },
    {
      "cell_type": "code",
      "source": [
        "# Categorized plays\n",
        "\n",
        "plays_list = [df_2023_pass_week2,         # Offense\n",
        "              df_2023_run_week2,\n",
        "              df_2023_interception_week2, # Defense\n",
        "              df_2023_sack_week2,\n",
        "              df_2023_punt_week2,         # Special Teams\n",
        "              df_2023_kickoff_week2,\n",
        "              df_2023_touchdown_week2,    # Scoring\n",
        "              df_2023_extrapoint_week2,\n",
        "              df_2023_fieldgoal_week2,\n",
        "              df_2023_2pt_conversion_week2,\n",
        "              df_2023_fumble_week2,       # Other\n",
        "              df_2023_penalty_week2,\n",
        "              df_2023_turnover_on_downs_week2,\n",
        "              df_2023_timeout_week2]\n",
        "\n",
        "num_plays_categorized = 0\n",
        "\n",
        "for plays in plays_list:\n",
        "  num_plays_categorized = num_plays_categorized + len(plays)\n",
        "\n",
        "num_plays_categorized == len(week2_2023_plays)"
      ],
      "metadata": {
        "colab": {
          "base_uri": "https://localhost:8080/"
        },
        "id": "PrHB0TVqezXA",
        "outputId": "78bbadb1-d6bf-42b8-e474-89e9c5625dd3"
      },
      "execution_count": 11,
      "outputs": [
        {
          "output_type": "execute_result",
          "data": {
            "text/plain": [
              "True"
            ]
          },
          "metadata": {},
          "execution_count": 11
        }
      ]
    },
    {
      "cell_type": "markdown",
      "source": [
        "# PIPELINE\n",
        "- ORDER\n",
        "  1. Team Dictionary\n",
        "    - Used to map team names with their acronyms\n",
        "  2. Regular expressions\n",
        "    - Used to find common patterns within raw data\n",
        "  3. Transforming Data\n",
        "    - So far, only label encoding\n",
        "  4. Cleaning methods\n",
        "    - Unique cleaning methods for each play type\n",
        "  5. Main pipeline method\n",
        "    - Control flow of cleaning methods"
      ],
      "metadata": {
        "id": "DsEqD2k9pCRf"
      }
    },
    {
      "cell_type": "markdown",
      "source": [
        "## 1. TEAM DICTIONARY"
      ],
      "metadata": {
        "id": "mXMEOEkUrQ9h"
      }
    },
    {
      "cell_type": "code",
      "source": [
        "# KEY: Team name\n",
        "# VALUE: Acronym of team\n",
        "\n",
        "dict_teams = {\n",
        "    'Cardinals': 'ARI', 'Falcons': 'ATL', 'Ravens': 'BAL', 'Bills': 'BUF', 'Panthers': 'CAR', 'Bears': 'CHI',\n",
        "    'Bengals': 'CIN', 'Browns': 'CLE', 'Cowboys': 'DAL', 'Broncos': 'DEN', 'Lions': 'DET', 'Packers': 'GB',\n",
        "    'Texans': 'HOU', 'Colts': 'IND', 'Jaguars': 'JAX', 'Chiefs': 'KC', 'Raiders': 'LV', 'Chargers': 'LAC',\n",
        "    'Rams': 'LAR', 'Dolphins': 'MIA', 'Vikings': 'MIN', 'Patriots': 'NE', 'Saints': 'NO', 'Giants': 'NYG',\n",
        "    'Jets': 'NYJ', 'Eagles': 'PHI', 'Steelers': 'PIT', '49ers': 'SF', 'Seahawks': 'SEA', 'Buccaneers': 'TB',\n",
        "    'Titans': 'TEN', 'Commanders': 'WAS'\n",
        "}"
      ],
      "metadata": {
        "id": "xBwDL0psvqtK"
      },
      "execution_count": 12,
      "outputs": []
    },
    {
      "cell_type": "code",
      "source": [
        "# KEY: Full Team name\n",
        "# VALUE: Acronym of team\n",
        "\n",
        "dict_teams_2 = {\n",
        "    'Arizona Cardinals': 'ARI', 'Atlanta Falcons': 'ATL', 'Baltimore Ravens': 'BAL', 'Buffalo Bills': 'BUF', 'Carolina Panthers': 'CAR', 'Chicago Bears': 'CHI',\n",
        "    'Cincinnati Bengals': 'CIN', 'Cleveland Browns': 'CLE', 'Dallas Cowboys': 'DAL', 'Denver Broncos': 'DEN', 'Detroit Lions': 'DET', 'Green Bay Packers': 'GB',\n",
        "    'Houston Texans': 'HOU', 'Indianapolis Colts': 'IND', 'Jacksonville Jaguars': 'JAX', 'Kansas City Chiefs': 'KC', 'Las Vegas Raiders': 'LV', 'Los Angeles Chargers': 'LAC',\n",
        "    'Los Angeles Rams': 'LAR', 'Miami Dolphins': 'MIA', 'Minnesota Vikings': 'MIN', 'New England Patriots': 'NE', 'New Orleans Saints': 'NO', 'New York Giants': 'NYG',\n",
        "    'New York Jets': 'NYJ', 'Philadelphia Eagles': 'PHI', 'Pittsburgh Steelers': 'PIT', 'San Francisco 49ers': 'SF', 'Seattle Seahawks': 'SEA', 'Tampa Bay Buccaneers': 'TB',\n",
        "    'Tennessee Titans': 'TEN', 'Washington Commanders': 'WAS'\n",
        "}"
      ],
      "metadata": {
        "id": "gZlpKH7PrSdK"
      },
      "execution_count": 13,
      "outputs": []
    },
    {
      "cell_type": "code",
      "source": [
        "# KEY: Acronym of team\n",
        "# VALUE: Team name\n",
        "\n",
        "dict_teams_3 = {\n",
        "    'ARI': 'Arizona Cardinals', 'ATL': 'Atlanta Falcons', 'BAL': 'Baltimore Ravens', 'BUF': 'Buffalo Bills', 'CAR': 'Carolina Panthers', 'CHI': 'Chicago Bears',\n",
        "    'CIN': 'Cincinnati Bengals', 'CLE': 'Cleveland Browns', 'DAL': 'Dallas Cowboys', 'DEN': 'Denver Broncos', 'DET': 'Detroit Lions', 'GB': 'Green Bay Packers',\n",
        "    'HOU': 'Houston Texans', 'IND': 'Indianapolis Colts', 'JAX': 'Jacksonville Jaguars', 'KC': 'Kansas City Chiefs', 'LV': 'Las Vegas Raiders', 'LAC': 'Los Angeles Chargers',\n",
        "    'LAR': 'Los Angeles Rams', 'MIA': 'Miami Dolphins', 'MIN': 'Minnesota Vikings', 'NE': 'New England Patriots', 'NO': 'New Orleans Saints', 'NYG': 'New York Giants',\n",
        "    'NYJ': 'New York Jets', 'PHI': 'Philadelphia Eagles', 'PIT': 'Pittsburgh Steelers', 'SF': 'San Francisco 49ers', 'SEA': 'Seattle Seahawks', 'TB': 'Tampa Bay Buccaneers',\n",
        "    'TEN': 'Tennessee Titans', 'WAS': 'Washington Commanders'\n",
        "}"
      ],
      "metadata": {
        "id": "EXmd10nzuUSg"
      },
      "execution_count": 14,
      "outputs": []
    },
    {
      "cell_type": "markdown",
      "source": [
        "## 2. REGULAR EXPRESSIONS"
      ],
      "metadata": {
        "id": "rxluYvbU0t_t"
      }
    },
    {
      "cell_type": "code",
      "source": [],
      "metadata": {
        "id": "0VNajl9Y0zNy"
      },
      "execution_count": 14,
      "outputs": []
    },
    {
      "cell_type": "markdown",
      "source": [
        "## 3. TRANSFORMING DATA"
      ],
      "metadata": {
        "id": "7CF2Mdx00_6w"
      }
    },
    {
      "cell_type": "code",
      "source": [
        "# TASKS:\n",
        "# 1. Split 'PlayTimeFormation' feature into 3\n",
        "#    1. TimeLeftInQuarter\n",
        "#    2. Quarter (Replace current quarter value, the raw value is not 100% accurate)\n",
        "#    3. PlayFormation\n",
        "# 2. Split 'PlayStart' feature into 2\n",
        "#    1. DownAndDistance\n",
        "#    2. FieldPosition"
      ],
      "metadata": {
        "id": "XgLWmdBG1DFH"
      },
      "execution_count": 15,
      "outputs": []
    },
    {
      "cell_type": "code",
      "source": [
        "# PURPOSE:\n",
        "# - Take value for 'PlayTimeFormation' and split this feature into 3\n",
        "#   separate features.\n",
        "#   1. TimeLeftInQuarter (Will come about when renaming 'PlayTimeFormation')\n",
        "#   2. Quarter (This feature already exists, the values within 'PlayTimeFormation' are more accurate and will replace the value in here originaly)\n",
        "#   3. PlayFormation\n",
        "\n",
        "def playtimeformation_split(df_plays):\n",
        "\n",
        "  df_plays_copy = df_plays.copy()\n",
        "\n",
        "  new_columns = ['PlayFormation']\n",
        "\n",
        "  df_plays_copy = df_plays_copy.rename(columns = {'PlayTimeFormation': 'TimeLeftInQuarter'})\n",
        "\n",
        "  df_plays = df_plays.reindex(columns=df_plays.columns.tolist() + new_columns)"
      ],
      "metadata": {
        "id": "5hNOLgeqBZ_r"
      },
      "execution_count": null,
      "outputs": []
    },
    {
      "cell_type": "markdown",
      "source": [
        "## 4. PIPELINE MAIN METHOD"
      ],
      "metadata": {
        "id": "jAT4815Z2EQw"
      }
    },
    {
      "cell_type": "code",
      "source": [
        "# PURPOSE:\n",
        "# - Accept a dataframe of nfl plays (formatted by NFL_Scrapers) and\n",
        "#   return a cleaned dataframe of those plays.\n",
        "# INPUT PARAMETERS:\n",
        "# df_all_plays         - dataframe - all plays in raw form from NFL_Scraper that user\n",
        "#                                    would like to clean.\n",
        "# OUTPUT:\n",
        "# df_all_plays_cleaned - dataframe - all plays from 'df_all_plays' cleaned and data\n",
        "#                                    dispersed into individual new features.\n",
        "\n",
        "# CURRENT DESIGN PLAN:\n",
        "# 1. Use uniquely designed methods for each play type to clean within dataframe\n",
        "#    - (e.g. pass, run, touchdown, punt, sack, ... )\n",
        "# 2. Repeat until all plays within dataframe have been cleaned.\n",
        "#   NOTE:\n",
        "#   - It is important to fully clean a play type before moving to the next\n",
        "#      because sometimes cleaning could involve adding a new row to the dataframe,\n",
        "#      causing a reset to the dataframes indexing.\n",
        "#      - If we were to separate all play types from the beginning, the indexes\n",
        "#        could shift around causing, for example, an index that might originally\n",
        "#        point to a run play to now instead point at a pass play.\n",
        "\n",
        "def clean_dataframe_of_plays(df_all_plays):\n",
        "\n",
        "  ################################\n",
        "  # RAW DATA COLUMN DESCRIPTIONS #\n",
        "  ################################\n",
        "\n",
        "  # Season             - Year of the season\n",
        "  # Week               - Game week of the season (e.g. 'Week 1')\n",
        "  # Day                - Day of the week (e.g. 'MON')\n",
        "  # Date               - Month and day of the game formatted MM/DD (e.g. '09/07')\n",
        "  # AwayTeam           - Visiting team of the game\n",
        "  # HomeTeam           - Home team of the game\n",
        "  # Quarter            - Quarter that the play is in\n",
        "  #                      - NOT ACCURATE. Drives that go between quarters will end up\n",
        "  #                        having all plays in the later quarter.\n",
        "  # DriveNumber        - Drive number of the quarter that the play is in\n",
        "  # TeamWithPossession - Team that started with the ball at the beginning of the play.\n",
        "  # IsScoringDrive     - Does the drive that the focused play in result in a score?\n",
        "  # PlayNumberInDrive  - Play count in the drive\n",
        "  # IsScoringPlay      - Did the play result in a score?\n",
        "  # PlayOutcome        - Ultimate result of the play (e.g. '13 Yard Pass')\n",
        "  # PlayStart          - The down and where the play started on the field (e.g. '2nd & 9 at DET 21')\n",
        "  # PlayTimeFormation  - Time left in the quarter / quarter / play formation\n",
        "  # PlayDescription    - The raw description given of the focused play, entailing everything\n",
        "  #                      that happened within it.\n",
        "\n",
        "  ######################################\n",
        "  # NEW ADDITIONAL COLUMN DESCRIPTIONS #\n",
        "  ######################################\n",
        "\n",
        "  # ~ General features ~\n",
        "  # TimeOnTheClock     - The time that was on the clock when the play started\n",
        "\n",
        "  # ~ Offensive features ~\n",
        "  # PlayType           - The type of play (e.g. pass/run)\n",
        "  # Formation          - Play formation\n",
        "  # Passer             - Player that threw the ball (mostly the quarterback)\n",
        "  # Rusher             - Player that ran the ball (mostly the runningback)\n",
        "  # Receiver           - Player on the same team as the passer that caught the ball\n",
        "  # Direction          - Where the ball is going during the play\n",
        "  # Yardage            - Yards gained during the play\n",
        "  #                      - (Should specify that yardage does not include extra yardage gained from penalties)\n",
        "  #                      - (Player awarded yardage)\n",
        "  #                      - (also includes how far kicks have gone during kickoffs and punts)\n",
        "\n",
        "  # ~ Defensive features ~\n",
        "  # SoloTackle         - Player awarded a solo tackle from a play\n",
        "  # AssistedTackle     - Player awarded an assisted tackle from a play\n",
        "  # SharedTackle       - Player awarded a shared tackle from a play\n",
        "  # PassDefendedBy     - Defender that defended the passing play\n",
        "  # PressureBy         - Defender that applied pressure to the passer\n",
        "  # InterceptedBy      - Defender that intercepted the passing play\n",
        "  # SackedBy           - Player awarded a sack from a play. (Could be solo or split)\n",
        "  # ForcedFumbledBy    - Player awarded a forced fumble from a play\n",
        "\n",
        "  # ~ Unique features (uncommon) ~\n",
        "  # WhoFumbled         - Player who last held the ball during a fumble.\n",
        "  # FumbleRecoveredBy  - Player who recovered the fumbled ball\n",
        "  # FumbleDetails      - A list that has what happened after the fumble\n",
        "  #                      - [forced fumble by, recovered by, yards gained, tackled by]\n",
        "  # ReverseDetails     - A list having plays leading up to play reversal\n",
        "  # InjuredPlayers     - Players that were injured during the play\n",
        "  # AcceptedPenalty    - Penalty on the field that was accepted\n",
        "  # DeclinedPenalty    - Penalty on the field that was declined\n",
        "\n",
        "  # ~ Special teams features ~\n",
        "  # Kicker             - Player who kicked the ball during a kickoff / punt / extra point / field goal\n",
        "  # LongSnapper        - Player who snapped the ball during a punt / extra point / field goal\n",
        "  # Returner           - Player who returned the ball during a kickoff / punt\n",
        "  # DownedBy           - ? ? ? I forget\n",
        "  # Holder             - Player who held ball for extra point / field goal\n",
        "  # BlockedBy          - Player who blocked a punt / extra point / field goal\n",
        "\n",
        "  new_columns = [\"TimeOnTheClock\",\n",
        "                 \"PlayType\", \"Formation\", \"Passer\", \"Rusher\", \"Receiver\", \"Direction\", \"Yardage\",\n",
        "                 \"SoloTackle\", \"AssistedTackle\", \"SharedTackle\", 'PassDefendedBy', \"PressureBy\", \"InterceptedBy\", \"SackedBy\", \"ForcedFumbleBy\",\n",
        "                 \"WhoFumbled\", \"FumbleRecoveredBy\", \"FumbleDetails\", \"ReverseDetails\", \"InjuredPlayers\", \"AcceptedPenalty\", \"DeclinedPenalty\",\n",
        "                 \"Kicker\", \"LongSnapper\", \"Returner\", \"DownedBy\", \"Holder\", \"BlockedBy\"]\n",
        "\n",
        "  string_columns = [\"TimeOnTheClock\",\n",
        "                    \"PlayType\", \"Formation\", \"Passer\", \"Rusher\", \"Receiver\", \"Direction\",\n",
        "                    \"SoloTackle\", \"AssistedTackle\", \"SharedTackle\", 'PassDefendedBy', \"PressureBy\", \"InterceptedBy\", \"SackedBy\", \"ForcedFumbleBy\",\n",
        "                    \"WhoFumbled\", \"FumbleRecoveredBy\", \"FumbleDetails\", \"ReverseDetails\", \"InjuredPlayers\", \"AcceptedPenalty\", \"DeclinedPenalty\",\n",
        "                    \"Kicker\", \"LongSnapper\", \"Returner\", \"DownedBy\", \"Holder\", \"BlockedBy\"]\n",
        "\n",
        "  int_columns = [\"Yardage\"]\n",
        "\n",
        "  ########################################\n",
        "  # RETURN DATAFRAME WITH ADDED FEATURES #\n",
        "  ########################################\n",
        "\n",
        "  df_all_plays_cleaned = df_all_plays.copy()\n",
        "  df_all_plays_cleaned = df_all_plays_cleaned.reindex(columns=df_all_plays_cleaned.columns.tolist() + new_columns)\n",
        "  df_all_plays_cleaned[string_columns] = df_all_plays_cleaned[string_columns].astype(str)\n",
        "  df_all_plays_cleaned[int_columns] = df_all_plays_cleaned[int_columns].astype(float)\n",
        "\n",
        "  #############################################################\n",
        "  # TRANSFORMING FEATURE VALUES (PREPPING DATA TO BE CLEANED) #\n",
        "  #############################################################\n",
        "\n",
        "\n",
        "  ########################################\n",
        "  # GETTING PLAY CATEGORIES AND CLEANING #\n",
        "  ########################################\n",
        "\n",
        "\n",
        "\n",
        "  return df_all_plays_cleaned"
      ],
      "metadata": {
        "id": "HnBvmNQk2Nb_"
      },
      "execution_count": 16,
      "outputs": []
    },
    {
      "cell_type": "markdown",
      "source": [
        "# TESTING"
      ],
      "metadata": {
        "id": "OWowcpZjtb9L"
      }
    },
    {
      "cell_type": "code",
      "source": [
        "df_week2_plays_cleaned = clean_dataframe_of_plays(week2_2023_plays)"
      ],
      "metadata": {
        "id": "xwGlU2XquSc9"
      },
      "execution_count": 17,
      "outputs": []
    },
    {
      "cell_type": "code",
      "source": [
        "df_week2_plays_cleaned.shape"
      ],
      "metadata": {
        "colab": {
          "base_uri": "https://localhost:8080/"
        },
        "id": "mI4RUuSuuZYe",
        "outputId": "203049e9-e0f1-4c95-f027-69d008a242e0"
      },
      "execution_count": 18,
      "outputs": [
        {
          "output_type": "execute_result",
          "data": {
            "text/plain": [
              "(2713, 45)"
            ]
          },
          "metadata": {},
          "execution_count": 18
        }
      ]
    },
    {
      "cell_type": "markdown",
      "source": [
        "# PLAYTYPE OBSERVATIONS"
      ],
      "metadata": {
        "id": "IYc-or2funxV"
      }
    },
    {
      "cell_type": "markdown",
      "source": [
        "## HELPER METHOD"
      ],
      "metadata": {
        "id": "44hbpB7VviFL"
      }
    },
    {
      "cell_type": "code",
      "source": [
        "# PURPOSE:\n",
        "# - A tool that can be used to compare original plays and their cleaned versions\n",
        "\n",
        "# I would like to return a map that has:\n",
        "# KEY: index of original unclean play\n",
        "# VALUE: index(es) of cleaned play\n",
        "\n",
        "def unclean_to_clean_play_matches(df_unclean_plays, df_clean_plays):\n",
        "\n",
        "  my_map = {}\n",
        "\n",
        "  # This list of features is unique to each play\n",
        "  # - Both the unclean and cleaned versions of the plays have these same features, therefore\n",
        "  #   they will be used to match unclean plays in 'df_unclean_plays' to clean plays in 'df_clean_plays'\n",
        "  matching_features = ['Season', 'Week', 'Date', 'AwayTeam', 'HomeTeam', 'Quarter', 'DriveNumber', 'PlayNumberInDrive']\n",
        "\n",
        "  # Iterate through each row of the unclean plays dataframe\n",
        "  for u_row in df_unclean_plays.itertuples(index=True):\n",
        "    u_features = [getattr(u_row, col) for col in matching_features]\n",
        "\n",
        "    matching_indexes = []\n",
        "    matches_found = False\n",
        "\n",
        "    # Iterate through each row of the dataframe of cleaned plays\n",
        "    # - The starting index will be the index of the unclean play within the main original dataframe of plays\n",
        "    #   - The matching cleaned pair will either be at the exact same location or higher\n",
        "    for c_row in df_clean_plays[u_row.Index::].itertuples(index=True):\n",
        "      c_features = [getattr(c_row, col) for col in matching_features]\n",
        "\n",
        "      # If a match is found, check for consective rows of matches because some uncleaned plays needed to be cleaned using multiple rows\n",
        "      # - Once a row that does not match follows one that does, will break the loop because the one play match has been found.\n",
        "      if u_features == c_features:\n",
        "        matching_indexes.append(c_row.Index)\n",
        "        matches_found = True\n",
        "      elif matches_found:\n",
        "        my_map[u_row.Index] = matching_indexes\n",
        "        break\n",
        "\n",
        "  return my_map"
      ],
      "metadata": {
        "id": "vm2CpfHJvg3N"
      },
      "execution_count": 19,
      "outputs": []
    },
    {
      "cell_type": "markdown",
      "source": [
        "## PASSING PLAYS"
      ],
      "metadata": {
        "id": "ZNlQga6VuzkJ"
      }
    },
    {
      "cell_type": "code",
      "source": [
        "df_unclean_pass_plays ="
      ],
      "metadata": {
        "id": "nTMz4Wq-uthP"
      },
      "execution_count": null,
      "outputs": []
    }
  ]
}